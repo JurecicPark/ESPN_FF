{
 "cells": [
  {
   "cell_type": "code",
   "execution_count": 18,
   "metadata": {},
   "outputs": [],
   "source": [
    "import pandas as pd"
   ]
  },
  {
   "cell_type": "code",
   "execution_count": 19,
   "metadata": {},
   "outputs": [],
   "source": [
    "# Football Import\n",
    "from espn_api.football import League\n",
    "\n",
    "#Started auction on 2015\n",
    "\n",
    "league_id = 297954\n",
    "year = 2019\n",
    "swid = '{8DA0536E-F92C-49D8-93B6-BC6DC03C831B}'\n",
    "espn_s2 = 'AECHCr%2Ft2U1JCS4Z1bK%2FEKZC1O1mwAjjGph0MfIUQE%2BqQ5aYUSBiZSFrtGdqNP4biF15EAFtk5JwO2mN%2BFZrDz6A%2B%2BDhpGlTpZfg4ChtClM%2Fii%2FivYOq3fXb%2Fv4GGy1VhKT2tUzxfjLIJ01im89apuj2owC3aTLP9Mzd3XwNMlPP9m%2BzNw5WVQsXFXYbubcEA2B8%2BCxeK00yG%2FEretReAAMmH5QlqGu901p%2Fj1MwfcA8Zfki2I29eWZwHaNML9q%2FRWan5Z%2B%2BuxihmAmpOPn4ulua'\n",
    "username = 'ben.jurecic@gmail.com'\n",
    "password = 'ZachHunt22!'\n",
    "\n",
    "leauge2019 = League(league_id=league_id, year=year, espn_s2=espn_s2, swid=swid)\n",
    "\n",
    "\n",
    "#league2019 = League(league_id=league_id, year=2019, username=username, password=password)"
   ]
  },
  {
   "cell_type": "code",
   "execution_count": 49,
   "metadata": {},
   "outputs": [],
   "source": [
    "def FillDraft(year, draftDF):\n",
    "\n",
    "    draftSize = len(LeagueInfo.draft)\n",
    "    \n",
    "    for i in range(draftSize):\n",
    "\n",
    "        player = LeagueInfo.draft[i].playerName\n",
    "        pid = LeagueInfo.draft[i].playerId\n",
    "        value = LeagueInfo.draft[i].bid_amount\n",
    "        keeper = LeagueInfo.draft[i].keeper_status\n",
    "        team = LeagueInfo.draft[i].team.team_name\n",
    "\n",
    "        pInfo = LeagueInfo.player_info(LeagueInfo.draft[i].playerName, LeagueInfo.draft[i].playerId)\n",
    "        position = pInfo.eligibleSlots[1] if pInfo is not None else \"\"\n",
    "\n",
    "        pick = i + 1\n",
    "\n",
    "        draftDF = draftDF.append(\n",
    "                {'Year' : year,\n",
    "                 'Player Name' : player, \n",
    "                 'Pick' : pick,\n",
    "                 'Price' : value, \n",
    "                 'Keeper' : keeper,\n",
    "                 'Team' : team,\n",
    "                 'Position' : position,\n",
    "                 'Player ID' : pid},  \n",
    "                    ignore_index = True) \n",
    "        \n",
    "        \n",
    "    fileName = str(year) + 'Draft.csv'\n",
    "    draftDF.to_csv (fileName, index = False, header=True)\n"
   ]
  },
  {
   "cell_type": "code",
   "execution_count": 50,
   "metadata": {},
   "outputs": [
    {
     "name": "stdout",
     "output_type": "stream",
     "text": [
      "2015\n",
      "2016\n",
      "2017\n",
      "2018\n",
      "2019\n",
      "2020\n"
     ]
    }
   ],
   "source": [
    "i = 0\n",
    "year = 2015\n",
    "del draftDF\n",
    "draftDF = pd.DataFrame(columns = ['Year', 'PlayerName', 'Pick', 'Price', 'Keeper', 'Team', 'Owner', 'Position', 'PlayerID'])\n",
    "\n",
    "while i < 6:\n",
    "    LeagueInfo = League(league_id=league_id, year=year, espn_s2=espn_s2, swid=swid)\n",
    "    FillDraft(year, draftDF)\n",
    "    print(year)\n",
    "    i += 1\n",
    "    year += 1\n"
   ]
  }
 ],
 "metadata": {
  "kernelspec": {
   "display_name": "Python 3",
   "language": "python",
   "name": "python3"
  },
  "language_info": {
   "codemirror_mode": {
    "name": "ipython",
    "version": 3
   },
   "file_extension": ".py",
   "mimetype": "text/x-python",
   "name": "python",
   "nbconvert_exporter": "python",
   "pygments_lexer": "ipython3",
   "version": "3.7.4"
  }
 },
 "nbformat": 4,
 "nbformat_minor": 2
}
